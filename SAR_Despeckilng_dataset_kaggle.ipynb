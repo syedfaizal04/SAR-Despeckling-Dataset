{
  "nbformat": 4,
  "nbformat_minor": 0,
  "metadata": {
    "colab": {
      "provenance": [],
      "gpuType": "T4",
      "authorship_tag": "ABX9TyOgNHn2jDu0lx9DxTBszfBj",
      "include_colab_link": true
    },
    "kernelspec": {
      "name": "python3",
      "display_name": "Python 3"
    },
    "language_info": {
      "name": "python"
    },
    "accelerator": "GPU"
  },
  "cells": [
    {
      "cell_type": "markdown",
      "metadata": {
        "id": "view-in-github",
        "colab_type": "text"
      },
      "source": [
        "<a href=\"https://colab.research.google.com/github/syedfaizal04/SAR-Despeckling-Dataset/blob/main/SAR_Despeckilng_dataset_kaggle.ipynb\" target=\"_parent\"><img src=\"https://colab.research.google.com/assets/colab-badge.svg\" alt=\"Open In Colab\"/></a>"
      ]
    },
    {
      "cell_type": "code",
      "execution_count": 10,
      "metadata": {
        "colab": {
          "base_uri": "https://localhost:8080/",
          "height": 73
        },
        "id": "Iaiw-A3AArZs",
        "outputId": "2b27878c-f1e6-44aa-aa8f-ac66f4695f52"
      },
      "outputs": [
        {
          "output_type": "display_data",
          "data": {
            "text/plain": [
              "<IPython.core.display.HTML object>"
            ],
            "text/html": [
              "\n",
              "     <input type=\"file\" id=\"files-c09c51fc-c560-40a4-940b-c70dbd8388ad\" name=\"files[]\" multiple disabled\n",
              "        style=\"border:none\" />\n",
              "     <output id=\"result-c09c51fc-c560-40a4-940b-c70dbd8388ad\">\n",
              "      Upload widget is only available when the cell has been executed in the\n",
              "      current browser session. Please rerun this cell to enable.\n",
              "      </output>\n",
              "      <script>// Copyright 2017 Google LLC\n",
              "//\n",
              "// Licensed under the Apache License, Version 2.0 (the \"License\");\n",
              "// you may not use this file except in compliance with the License.\n",
              "// You may obtain a copy of the License at\n",
              "//\n",
              "//      http://www.apache.org/licenses/LICENSE-2.0\n",
              "//\n",
              "// Unless required by applicable law or agreed to in writing, software\n",
              "// distributed under the License is distributed on an \"AS IS\" BASIS,\n",
              "// WITHOUT WARRANTIES OR CONDITIONS OF ANY KIND, either express or implied.\n",
              "// See the License for the specific language governing permissions and\n",
              "// limitations under the License.\n",
              "\n",
              "/**\n",
              " * @fileoverview Helpers for google.colab Python module.\n",
              " */\n",
              "(function(scope) {\n",
              "function span(text, styleAttributes = {}) {\n",
              "  const element = document.createElement('span');\n",
              "  element.textContent = text;\n",
              "  for (const key of Object.keys(styleAttributes)) {\n",
              "    element.style[key] = styleAttributes[key];\n",
              "  }\n",
              "  return element;\n",
              "}\n",
              "\n",
              "// Max number of bytes which will be uploaded at a time.\n",
              "const MAX_PAYLOAD_SIZE = 100 * 1024;\n",
              "\n",
              "function _uploadFiles(inputId, outputId) {\n",
              "  const steps = uploadFilesStep(inputId, outputId);\n",
              "  const outputElement = document.getElementById(outputId);\n",
              "  // Cache steps on the outputElement to make it available for the next call\n",
              "  // to uploadFilesContinue from Python.\n",
              "  outputElement.steps = steps;\n",
              "\n",
              "  return _uploadFilesContinue(outputId);\n",
              "}\n",
              "\n",
              "// This is roughly an async generator (not supported in the browser yet),\n",
              "// where there are multiple asynchronous steps and the Python side is going\n",
              "// to poll for completion of each step.\n",
              "// This uses a Promise to block the python side on completion of each step,\n",
              "// then passes the result of the previous step as the input to the next step.\n",
              "function _uploadFilesContinue(outputId) {\n",
              "  const outputElement = document.getElementById(outputId);\n",
              "  const steps = outputElement.steps;\n",
              "\n",
              "  const next = steps.next(outputElement.lastPromiseValue);\n",
              "  return Promise.resolve(next.value.promise).then((value) => {\n",
              "    // Cache the last promise value to make it available to the next\n",
              "    // step of the generator.\n",
              "    outputElement.lastPromiseValue = value;\n",
              "    return next.value.response;\n",
              "  });\n",
              "}\n",
              "\n",
              "/**\n",
              " * Generator function which is called between each async step of the upload\n",
              " * process.\n",
              " * @param {string} inputId Element ID of the input file picker element.\n",
              " * @param {string} outputId Element ID of the output display.\n",
              " * @return {!Iterable<!Object>} Iterable of next steps.\n",
              " */\n",
              "function* uploadFilesStep(inputId, outputId) {\n",
              "  const inputElement = document.getElementById(inputId);\n",
              "  inputElement.disabled = false;\n",
              "\n",
              "  const outputElement = document.getElementById(outputId);\n",
              "  outputElement.innerHTML = '';\n",
              "\n",
              "  const pickedPromise = new Promise((resolve) => {\n",
              "    inputElement.addEventListener('change', (e) => {\n",
              "      resolve(e.target.files);\n",
              "    });\n",
              "  });\n",
              "\n",
              "  const cancel = document.createElement('button');\n",
              "  inputElement.parentElement.appendChild(cancel);\n",
              "  cancel.textContent = 'Cancel upload';\n",
              "  const cancelPromise = new Promise((resolve) => {\n",
              "    cancel.onclick = () => {\n",
              "      resolve(null);\n",
              "    };\n",
              "  });\n",
              "\n",
              "  // Wait for the user to pick the files.\n",
              "  const files = yield {\n",
              "    promise: Promise.race([pickedPromise, cancelPromise]),\n",
              "    response: {\n",
              "      action: 'starting',\n",
              "    }\n",
              "  };\n",
              "\n",
              "  cancel.remove();\n",
              "\n",
              "  // Disable the input element since further picks are not allowed.\n",
              "  inputElement.disabled = true;\n",
              "\n",
              "  if (!files) {\n",
              "    return {\n",
              "      response: {\n",
              "        action: 'complete',\n",
              "      }\n",
              "    };\n",
              "  }\n",
              "\n",
              "  for (const file of files) {\n",
              "    const li = document.createElement('li');\n",
              "    li.append(span(file.name, {fontWeight: 'bold'}));\n",
              "    li.append(span(\n",
              "        `(${file.type || 'n/a'}) - ${file.size} bytes, ` +\n",
              "        `last modified: ${\n",
              "            file.lastModifiedDate ? file.lastModifiedDate.toLocaleDateString() :\n",
              "                                    'n/a'} - `));\n",
              "    const percent = span('0% done');\n",
              "    li.appendChild(percent);\n",
              "\n",
              "    outputElement.appendChild(li);\n",
              "\n",
              "    const fileDataPromise = new Promise((resolve) => {\n",
              "      const reader = new FileReader();\n",
              "      reader.onload = (e) => {\n",
              "        resolve(e.target.result);\n",
              "      };\n",
              "      reader.readAsArrayBuffer(file);\n",
              "    });\n",
              "    // Wait for the data to be ready.\n",
              "    let fileData = yield {\n",
              "      promise: fileDataPromise,\n",
              "      response: {\n",
              "        action: 'continue',\n",
              "      }\n",
              "    };\n",
              "\n",
              "    // Use a chunked sending to avoid message size limits. See b/62115660.\n",
              "    let position = 0;\n",
              "    do {\n",
              "      const length = Math.min(fileData.byteLength - position, MAX_PAYLOAD_SIZE);\n",
              "      const chunk = new Uint8Array(fileData, position, length);\n",
              "      position += length;\n",
              "\n",
              "      const base64 = btoa(String.fromCharCode.apply(null, chunk));\n",
              "      yield {\n",
              "        response: {\n",
              "          action: 'append',\n",
              "          file: file.name,\n",
              "          data: base64,\n",
              "        },\n",
              "      };\n",
              "\n",
              "      let percentDone = fileData.byteLength === 0 ?\n",
              "          100 :\n",
              "          Math.round((position / fileData.byteLength) * 100);\n",
              "      percent.textContent = `${percentDone}% done`;\n",
              "\n",
              "    } while (position < fileData.byteLength);\n",
              "  }\n",
              "\n",
              "  // All done.\n",
              "  yield {\n",
              "    response: {\n",
              "      action: 'complete',\n",
              "    }\n",
              "  };\n",
              "}\n",
              "\n",
              "scope.google = scope.google || {};\n",
              "scope.google.colab = scope.google.colab || {};\n",
              "scope.google.colab._files = {\n",
              "  _uploadFiles,\n",
              "  _uploadFilesContinue,\n",
              "};\n",
              "})(self);\n",
              "</script> "
            ]
          },
          "metadata": {}
        },
        {
          "output_type": "stream",
          "name": "stdout",
          "text": [
            "Saving kaggle.json to kaggle.json\n"
          ]
        }
      ],
      "source": [
        "# Install Kaggle\n",
        "!pip install -q kaggle\n",
        "\n",
        "# Upload your kaggle.json API key\n",
        "from google.colab import files\n",
        "files.upload()\n",
        "\n",
        "# Create Kaggle directory and move kaggle.json there\n",
        "!mkdir -p ~/.kaggle\n",
        "!mv kaggle.json ~/.kaggle/\n",
        "!chmod 600 ~/.kaggle/kaggle.json\n"
      ]
    },
    {
      "cell_type": "code",
      "source": [
        "!kaggle datasets download -d javidtheimmortal/sar-despeckling-dataset --unzip\n"
      ],
      "metadata": {
        "colab": {
          "base_uri": "https://localhost:8080/"
        },
        "id": "dv7CP0RGBe3Y",
        "outputId": "799a4f3d-66b7-4b07-fdac-f5733b42f2af"
      },
      "execution_count": 11,
      "outputs": [
        {
          "output_type": "stream",
          "name": "stdout",
          "text": [
            "Dataset URL: https://www.kaggle.com/datasets/javidtheimmortal/sar-despeckling-dataset\n",
            "License(s): apache-2.0\n",
            "Downloading sar-despeckling-dataset.zip to /content\n",
            " 99% 961M/974M [00:11<00:00, 105MB/s] \n",
            "100% 974M/974M [00:11<00:00, 88.6MB/s]\n"
          ]
        }
      ]
    },
    {
      "cell_type": "code",
      "source": [
        "import os\n",
        "import tensorflow as tf\n",
        "from tensorflow.keras.preprocessing.image import ImageDataGenerator\n",
        "\n",
        "# Define paths\n",
        "base_dir = '/content/Main folder'\n",
        "train_dir = os.path.join(base_dir, '/content/SAR despeckling filters dataset/Main folder/GTruth')\n",
        "val_dir = os.path.join(base_dir, '/content/SAR despeckling filters dataset/Main folder/GTruth_val')\n",
        "noisy_train_dir = os.path.join(base_dir, '/content/SAR despeckling filters dataset/Main folder/Noisy')\n",
        "noisy_val_dir = os.path.join(base_dir, '/content/SAR despeckling filters dataset/Main folder/Noisy_val')\n",
        "\n",
        "# Check the dataset structure\n",
        "print(f'Train Images: {len(os.listdir(train_dir))}')\n",
        "print(f'Validation Images: {len(os.listdir(val_dir))}')\n",
        "print(f'Noisy Train Images: {len(os.listdir(noisy_train_dir))}')\n",
        "print(f'Noisy Validation Images: {len(os.listdir(noisy_val_dir))}')\n"
      ],
      "metadata": {
        "colab": {
          "base_uri": "https://localhost:8080/"
        },
        "id": "xZ9Qrx3LCdm1",
        "outputId": "31726cad-405d-4fb4-9a1e-db9bb90bd4df"
      },
      "execution_count": 12,
      "outputs": [
        {
          "output_type": "stream",
          "name": "stdout",
          "text": [
            "Train Images: 1500\n",
            "Validation Images: 100\n",
            "Noisy Train Images: 1500\n",
            "Noisy Validation Images: 100\n"
          ]
        }
      ]
    },
    {
      "cell_type": "code",
      "source": [
        "from tensorflow.keras.models import Model\n",
        "from tensorflow.keras.layers import Input, Conv2D, MaxPooling2D, UpSampling2D, concatenate\n",
        "\n",
        "def create_despeckling_model(input_shape=(256, 256, 1)):\n",
        "    inputs = Input(input_shape)\n",
        "\n",
        "    # Encoder\n",
        "    c1 = Conv2D(64, (3, 3), activation='relu', padding='same')(inputs)\n",
        "    p1 = MaxPooling2D((2, 2))(c1)\n",
        "\n",
        "    c2 = Conv2D(128, (3, 3), activation='relu', padding='same')(p1)\n",
        "    p2 = MaxPooling2D((2, 2))(c2)\n",
        "\n",
        "    # Bottleneck\n",
        "    bn = Conv2D(256, (3, 3), activation='relu', padding='same')(p2)\n",
        "\n",
        "    # Decoder\n",
        "    u1 = UpSampling2D((2, 2))(bn)\n",
        "    c3 = Conv2D(128, (3, 3), activation='relu', padding='same')(u1)\n",
        "\n",
        "    u2 = UpSampling2D((2, 2))(c3)\n",
        "    c4 = Conv2D(64, (3, 3), activation='relu', padding='same')(u2)\n",
        "\n",
        "    outputs = Conv2D(1, (1, 1), activation='sigmoid')(c4)\n",
        "\n",
        "    model = Model(inputs=[inputs], outputs=[outputs])\n",
        "    return model\n",
        "\n",
        "model = create_despeckling_model()\n",
        "model.compile(optimizer='adam', loss='mean_squared_error', metrics=['accuracy'])\n",
        "model.summary()\n"
      ],
      "metadata": {
        "colab": {
          "base_uri": "https://localhost:8080/",
          "height": 510
        },
        "id": "F4mCKGCvkMx0",
        "outputId": "2845ab87-8be8-4ac2-92ac-6a0d823f49ee"
      },
      "execution_count": 25,
      "outputs": [
        {
          "output_type": "display_data",
          "data": {
            "text/plain": [
              "\u001b[1mModel: \"functional\"\u001b[0m\n"
            ],
            "text/html": [
              "<pre style=\"white-space:pre;overflow-x:auto;line-height:normal;font-family:Menlo,'DejaVu Sans Mono',consolas,'Courier New',monospace\"><span style=\"font-weight: bold\">Model: \"functional\"</span>\n",
              "</pre>\n"
            ]
          },
          "metadata": {}
        },
        {
          "output_type": "display_data",
          "data": {
            "text/plain": [
              "┏━━━━━━━━━━━━━━━━━━━━━━━━━━━━━━━━━━━━━━┳━━━━━━━━━━━━━━━━━━━━━━━━━━━━━┳━━━━━━━━━━━━━━━━━┓\n",
              "┃\u001b[1m \u001b[0m\u001b[1mLayer (type)                        \u001b[0m\u001b[1m \u001b[0m┃\u001b[1m \u001b[0m\u001b[1mOutput Shape               \u001b[0m\u001b[1m \u001b[0m┃\u001b[1m \u001b[0m\u001b[1m        Param #\u001b[0m\u001b[1m \u001b[0m┃\n",
              "┡━━━━━━━━━━━━━━━━━━━━━━━━━━━━━━━━━━━━━━╇━━━━━━━━━━━━━━━━━━━━━━━━━━━━━╇━━━━━━━━━━━━━━━━━┩\n",
              "│ input_layer (\u001b[38;5;33mInputLayer\u001b[0m)             │ (\u001b[38;5;45mNone\u001b[0m, \u001b[38;5;34m256\u001b[0m, \u001b[38;5;34m256\u001b[0m, \u001b[38;5;34m1\u001b[0m)         │               \u001b[38;5;34m0\u001b[0m │\n",
              "├──────────────────────────────────────┼─────────────────────────────┼─────────────────┤\n",
              "│ conv2d (\u001b[38;5;33mConv2D\u001b[0m)                      │ (\u001b[38;5;45mNone\u001b[0m, \u001b[38;5;34m256\u001b[0m, \u001b[38;5;34m256\u001b[0m, \u001b[38;5;34m64\u001b[0m)        │             \u001b[38;5;34m640\u001b[0m │\n",
              "├──────────────────────────────────────┼─────────────────────────────┼─────────────────┤\n",
              "│ max_pooling2d (\u001b[38;5;33mMaxPooling2D\u001b[0m)         │ (\u001b[38;5;45mNone\u001b[0m, \u001b[38;5;34m128\u001b[0m, \u001b[38;5;34m128\u001b[0m, \u001b[38;5;34m64\u001b[0m)        │               \u001b[38;5;34m0\u001b[0m │\n",
              "├──────────────────────────────────────┼─────────────────────────────┼─────────────────┤\n",
              "│ conv2d_1 (\u001b[38;5;33mConv2D\u001b[0m)                    │ (\u001b[38;5;45mNone\u001b[0m, \u001b[38;5;34m128\u001b[0m, \u001b[38;5;34m128\u001b[0m, \u001b[38;5;34m128\u001b[0m)       │          \u001b[38;5;34m73,856\u001b[0m │\n",
              "├──────────────────────────────────────┼─────────────────────────────┼─────────────────┤\n",
              "│ max_pooling2d_1 (\u001b[38;5;33mMaxPooling2D\u001b[0m)       │ (\u001b[38;5;45mNone\u001b[0m, \u001b[38;5;34m64\u001b[0m, \u001b[38;5;34m64\u001b[0m, \u001b[38;5;34m128\u001b[0m)         │               \u001b[38;5;34m0\u001b[0m │\n",
              "├──────────────────────────────────────┼─────────────────────────────┼─────────────────┤\n",
              "│ conv2d_2 (\u001b[38;5;33mConv2D\u001b[0m)                    │ (\u001b[38;5;45mNone\u001b[0m, \u001b[38;5;34m64\u001b[0m, \u001b[38;5;34m64\u001b[0m, \u001b[38;5;34m256\u001b[0m)         │         \u001b[38;5;34m295,168\u001b[0m │\n",
              "├──────────────────────────────────────┼─────────────────────────────┼─────────────────┤\n",
              "│ up_sampling2d (\u001b[38;5;33mUpSampling2D\u001b[0m)         │ (\u001b[38;5;45mNone\u001b[0m, \u001b[38;5;34m128\u001b[0m, \u001b[38;5;34m128\u001b[0m, \u001b[38;5;34m256\u001b[0m)       │               \u001b[38;5;34m0\u001b[0m │\n",
              "├──────────────────────────────────────┼─────────────────────────────┼─────────────────┤\n",
              "│ conv2d_3 (\u001b[38;5;33mConv2D\u001b[0m)                    │ (\u001b[38;5;45mNone\u001b[0m, \u001b[38;5;34m128\u001b[0m, \u001b[38;5;34m128\u001b[0m, \u001b[38;5;34m128\u001b[0m)       │         \u001b[38;5;34m295,040\u001b[0m │\n",
              "├──────────────────────────────────────┼─────────────────────────────┼─────────────────┤\n",
              "│ up_sampling2d_1 (\u001b[38;5;33mUpSampling2D\u001b[0m)       │ (\u001b[38;5;45mNone\u001b[0m, \u001b[38;5;34m256\u001b[0m, \u001b[38;5;34m256\u001b[0m, \u001b[38;5;34m128\u001b[0m)       │               \u001b[38;5;34m0\u001b[0m │\n",
              "├──────────────────────────────────────┼─────────────────────────────┼─────────────────┤\n",
              "│ conv2d_4 (\u001b[38;5;33mConv2D\u001b[0m)                    │ (\u001b[38;5;45mNone\u001b[0m, \u001b[38;5;34m256\u001b[0m, \u001b[38;5;34m256\u001b[0m, \u001b[38;5;34m64\u001b[0m)        │          \u001b[38;5;34m73,792\u001b[0m │\n",
              "├──────────────────────────────────────┼─────────────────────────────┼─────────────────┤\n",
              "│ conv2d_5 (\u001b[38;5;33mConv2D\u001b[0m)                    │ (\u001b[38;5;45mNone\u001b[0m, \u001b[38;5;34m256\u001b[0m, \u001b[38;5;34m256\u001b[0m, \u001b[38;5;34m1\u001b[0m)         │              \u001b[38;5;34m65\u001b[0m │\n",
              "└──────────────────────────────────────┴─────────────────────────────┴─────────────────┘\n"
            ],
            "text/html": [
              "<pre style=\"white-space:pre;overflow-x:auto;line-height:normal;font-family:Menlo,'DejaVu Sans Mono',consolas,'Courier New',monospace\">┏━━━━━━━━━━━━━━━━━━━━━━━━━━━━━━━━━━━━━━┳━━━━━━━━━━━━━━━━━━━━━━━━━━━━━┳━━━━━━━━━━━━━━━━━┓\n",
              "┃<span style=\"font-weight: bold\"> Layer (type)                         </span>┃<span style=\"font-weight: bold\"> Output Shape                </span>┃<span style=\"font-weight: bold\">         Param # </span>┃\n",
              "┡━━━━━━━━━━━━━━━━━━━━━━━━━━━━━━━━━━━━━━╇━━━━━━━━━━━━━━━━━━━━━━━━━━━━━╇━━━━━━━━━━━━━━━━━┩\n",
              "│ input_layer (<span style=\"color: #0087ff; text-decoration-color: #0087ff\">InputLayer</span>)             │ (<span style=\"color: #00d7ff; text-decoration-color: #00d7ff\">None</span>, <span style=\"color: #00af00; text-decoration-color: #00af00\">256</span>, <span style=\"color: #00af00; text-decoration-color: #00af00\">256</span>, <span style=\"color: #00af00; text-decoration-color: #00af00\">1</span>)         │               <span style=\"color: #00af00; text-decoration-color: #00af00\">0</span> │\n",
              "├──────────────────────────────────────┼─────────────────────────────┼─────────────────┤\n",
              "│ conv2d (<span style=\"color: #0087ff; text-decoration-color: #0087ff\">Conv2D</span>)                      │ (<span style=\"color: #00d7ff; text-decoration-color: #00d7ff\">None</span>, <span style=\"color: #00af00; text-decoration-color: #00af00\">256</span>, <span style=\"color: #00af00; text-decoration-color: #00af00\">256</span>, <span style=\"color: #00af00; text-decoration-color: #00af00\">64</span>)        │             <span style=\"color: #00af00; text-decoration-color: #00af00\">640</span> │\n",
              "├──────────────────────────────────────┼─────────────────────────────┼─────────────────┤\n",
              "│ max_pooling2d (<span style=\"color: #0087ff; text-decoration-color: #0087ff\">MaxPooling2D</span>)         │ (<span style=\"color: #00d7ff; text-decoration-color: #00d7ff\">None</span>, <span style=\"color: #00af00; text-decoration-color: #00af00\">128</span>, <span style=\"color: #00af00; text-decoration-color: #00af00\">128</span>, <span style=\"color: #00af00; text-decoration-color: #00af00\">64</span>)        │               <span style=\"color: #00af00; text-decoration-color: #00af00\">0</span> │\n",
              "├──────────────────────────────────────┼─────────────────────────────┼─────────────────┤\n",
              "│ conv2d_1 (<span style=\"color: #0087ff; text-decoration-color: #0087ff\">Conv2D</span>)                    │ (<span style=\"color: #00d7ff; text-decoration-color: #00d7ff\">None</span>, <span style=\"color: #00af00; text-decoration-color: #00af00\">128</span>, <span style=\"color: #00af00; text-decoration-color: #00af00\">128</span>, <span style=\"color: #00af00; text-decoration-color: #00af00\">128</span>)       │          <span style=\"color: #00af00; text-decoration-color: #00af00\">73,856</span> │\n",
              "├──────────────────────────────────────┼─────────────────────────────┼─────────────────┤\n",
              "│ max_pooling2d_1 (<span style=\"color: #0087ff; text-decoration-color: #0087ff\">MaxPooling2D</span>)       │ (<span style=\"color: #00d7ff; text-decoration-color: #00d7ff\">None</span>, <span style=\"color: #00af00; text-decoration-color: #00af00\">64</span>, <span style=\"color: #00af00; text-decoration-color: #00af00\">64</span>, <span style=\"color: #00af00; text-decoration-color: #00af00\">128</span>)         │               <span style=\"color: #00af00; text-decoration-color: #00af00\">0</span> │\n",
              "├──────────────────────────────────────┼─────────────────────────────┼─────────────────┤\n",
              "│ conv2d_2 (<span style=\"color: #0087ff; text-decoration-color: #0087ff\">Conv2D</span>)                    │ (<span style=\"color: #00d7ff; text-decoration-color: #00d7ff\">None</span>, <span style=\"color: #00af00; text-decoration-color: #00af00\">64</span>, <span style=\"color: #00af00; text-decoration-color: #00af00\">64</span>, <span style=\"color: #00af00; text-decoration-color: #00af00\">256</span>)         │         <span style=\"color: #00af00; text-decoration-color: #00af00\">295,168</span> │\n",
              "├──────────────────────────────────────┼─────────────────────────────┼─────────────────┤\n",
              "│ up_sampling2d (<span style=\"color: #0087ff; text-decoration-color: #0087ff\">UpSampling2D</span>)         │ (<span style=\"color: #00d7ff; text-decoration-color: #00d7ff\">None</span>, <span style=\"color: #00af00; text-decoration-color: #00af00\">128</span>, <span style=\"color: #00af00; text-decoration-color: #00af00\">128</span>, <span style=\"color: #00af00; text-decoration-color: #00af00\">256</span>)       │               <span style=\"color: #00af00; text-decoration-color: #00af00\">0</span> │\n",
              "├──────────────────────────────────────┼─────────────────────────────┼─────────────────┤\n",
              "│ conv2d_3 (<span style=\"color: #0087ff; text-decoration-color: #0087ff\">Conv2D</span>)                    │ (<span style=\"color: #00d7ff; text-decoration-color: #00d7ff\">None</span>, <span style=\"color: #00af00; text-decoration-color: #00af00\">128</span>, <span style=\"color: #00af00; text-decoration-color: #00af00\">128</span>, <span style=\"color: #00af00; text-decoration-color: #00af00\">128</span>)       │         <span style=\"color: #00af00; text-decoration-color: #00af00\">295,040</span> │\n",
              "├──────────────────────────────────────┼─────────────────────────────┼─────────────────┤\n",
              "│ up_sampling2d_1 (<span style=\"color: #0087ff; text-decoration-color: #0087ff\">UpSampling2D</span>)       │ (<span style=\"color: #00d7ff; text-decoration-color: #00d7ff\">None</span>, <span style=\"color: #00af00; text-decoration-color: #00af00\">256</span>, <span style=\"color: #00af00; text-decoration-color: #00af00\">256</span>, <span style=\"color: #00af00; text-decoration-color: #00af00\">128</span>)       │               <span style=\"color: #00af00; text-decoration-color: #00af00\">0</span> │\n",
              "├──────────────────────────────────────┼─────────────────────────────┼─────────────────┤\n",
              "│ conv2d_4 (<span style=\"color: #0087ff; text-decoration-color: #0087ff\">Conv2D</span>)                    │ (<span style=\"color: #00d7ff; text-decoration-color: #00d7ff\">None</span>, <span style=\"color: #00af00; text-decoration-color: #00af00\">256</span>, <span style=\"color: #00af00; text-decoration-color: #00af00\">256</span>, <span style=\"color: #00af00; text-decoration-color: #00af00\">64</span>)        │          <span style=\"color: #00af00; text-decoration-color: #00af00\">73,792</span> │\n",
              "├──────────────────────────────────────┼─────────────────────────────┼─────────────────┤\n",
              "│ conv2d_5 (<span style=\"color: #0087ff; text-decoration-color: #0087ff\">Conv2D</span>)                    │ (<span style=\"color: #00d7ff; text-decoration-color: #00d7ff\">None</span>, <span style=\"color: #00af00; text-decoration-color: #00af00\">256</span>, <span style=\"color: #00af00; text-decoration-color: #00af00\">256</span>, <span style=\"color: #00af00; text-decoration-color: #00af00\">1</span>)         │              <span style=\"color: #00af00; text-decoration-color: #00af00\">65</span> │\n",
              "└──────────────────────────────────────┴─────────────────────────────┴─────────────────┘\n",
              "</pre>\n"
            ]
          },
          "metadata": {}
        },
        {
          "output_type": "display_data",
          "data": {
            "text/plain": [
              "\u001b[1m Total params: \u001b[0m\u001b[38;5;34m738,561\u001b[0m (2.82 MB)\n"
            ],
            "text/html": [
              "<pre style=\"white-space:pre;overflow-x:auto;line-height:normal;font-family:Menlo,'DejaVu Sans Mono',consolas,'Courier New',monospace\"><span style=\"font-weight: bold\"> Total params: </span><span style=\"color: #00af00; text-decoration-color: #00af00\">738,561</span> (2.82 MB)\n",
              "</pre>\n"
            ]
          },
          "metadata": {}
        },
        {
          "output_type": "display_data",
          "data": {
            "text/plain": [
              "\u001b[1m Trainable params: \u001b[0m\u001b[38;5;34m738,561\u001b[0m (2.82 MB)\n"
            ],
            "text/html": [
              "<pre style=\"white-space:pre;overflow-x:auto;line-height:normal;font-family:Menlo,'DejaVu Sans Mono',consolas,'Courier New',monospace\"><span style=\"font-weight: bold\"> Trainable params: </span><span style=\"color: #00af00; text-decoration-color: #00af00\">738,561</span> (2.82 MB)\n",
              "</pre>\n"
            ]
          },
          "metadata": {}
        },
        {
          "output_type": "display_data",
          "data": {
            "text/plain": [
              "\u001b[1m Non-trainable params: \u001b[0m\u001b[38;5;34m0\u001b[0m (0.00 B)\n"
            ],
            "text/html": [
              "<pre style=\"white-space:pre;overflow-x:auto;line-height:normal;font-family:Menlo,'DejaVu Sans Mono',consolas,'Courier New',monospace\"><span style=\"font-weight: bold\"> Non-trainable params: </span><span style=\"color: #00af00; text-decoration-color: #00af00\">0</span> (0.00 B)\n",
              "</pre>\n"
            ]
          },
          "metadata": {}
        }
      ]
    },
    {
      "cell_type": "code",
      "source": [
        "def load_dataset(directory):\n",
        "    files = list_tiff_files(directory)\n",
        "    if len(files) == 0:\n",
        "        raise ValueError(f\"No .tiff files found in the directory: {directory}\")\n",
        "\n",
        "    images = []\n",
        "    for filename in files:\n",
        "        filepath = os.path.join(directory, filename)\n",
        "        image = load_tiff_image(filepath)  # Assuming load_tiff_image is defined\n",
        "        images.append(image)\n",
        "\n",
        "    return tf.stack(images)\n"
      ],
      "metadata": {
        "id": "YVzW4J4PFjtp"
      },
      "execution_count": 26,
      "outputs": []
    },
    {
      "cell_type": "code",
      "source": [
        "!pip install tensorflow-io\n",
        "import tensorflow as tf\n",
        "import tensorflow_io as tfio\n",
        "\n",
        "def load_tiff_image(path):\n",
        "    image_data = tf.io.read_file(path)\n",
        "    # Use tfio.experimental.image.decode_tiff instead of tf.image.decode_image\n",
        "    image = tfio.experimental.image.decode_tiff(image_data)  # Decode TIFF\n",
        "\n",
        "    # Check if the image has more than 3 channels and slice if necessary\n",
        "    if image.shape[-1] > 3:\n",
        "        image = image[..., :3]  # Keep only the first 3 channels (RGB)\n",
        "\n",
        "    image = tf.image.rgb_to_grayscale(image)  # Convert to grayscale\n",
        "    image = tf.image.resize(image, (256, 256))  # Resize to a fixed size\n",
        "    return image / 255.0  # Normalize to [0, 1]\n",
        "\n",
        "def load_dataset(directory):\n",
        "    images = []\n",
        "    for filename in os.listdir(directory):\n",
        "        filepath = os.path.join(directory, filename)\n",
        "        # Skip if it's not a file\n",
        "        if os.path.isfile(filepath) and filename.endswith(\".tiff\"):\n",
        "            image = load_tiff_image(filepath)\n",
        "            images.append(image)\n",
        "        else:\n",
        "            print(f\"Skipping non-file or unsupported file: {filepath}\")\n",
        "\n",
        "    if not images:\n",
        "        raise ValueError(f\"No valid .tiff images found in {directory}.\")\n",
        "\n",
        "    return tf.stack(images)\n",
        "\n",
        "# Test paths\n",
        "train_dir = '/content/SAR despeckling filters dataset/Main folder/GTruth'\n",
        "train_images = load_dataset(train_dir)\n",
        "print(f\"Loaded {train_images.shape[0]} images from {train_dir}.\")"
      ],
      "metadata": {
        "colab": {
          "base_uri": "https://localhost:8080/"
        },
        "id": "DHaElG7dHF54",
        "outputId": "96315329-1af9-44de-cd87-3a94209cde3a"
      },
      "execution_count": 27,
      "outputs": [
        {
          "output_type": "stream",
          "name": "stdout",
          "text": [
            "Requirement already satisfied: tensorflow-io in /usr/local/lib/python3.10/dist-packages (0.37.1)\n",
            "Requirement already satisfied: tensorflow-io-gcs-filesystem==0.37.1 in /usr/local/lib/python3.10/dist-packages (from tensorflow-io) (0.37.1)\n",
            "Loaded 1500 images from /content/SAR despeckling filters dataset/Main folder/GTruth.\n"
          ]
        }
      ]
    },
    {
      "cell_type": "code",
      "source": [
        "def load_dataset(directory):\n",
        "    files = [os.path.join(directory, f) for f in os.listdir(directory) if os.path.isfile(os.path.join(directory, f)) and f.endswith('.tiff')]\n",
        "\n",
        "    if len(files) == 0:\n",
        "        raise ValueError(f\"No .tiff files found in the directory: {directory}\")\n",
        "\n",
        "    images = []\n",
        "    for filepath in files:\n",
        "        image = load_tiff_image(filepath)  # Assuming `load_tiff_image` is defined\n",
        "        images.append(image)\n",
        "\n",
        "    return tf.stack(images)\n",
        "\n",
        "# Test the dataset loading\n",
        "try:\n",
        "    train_dir = '/content/SAR despeckling filters dataset/Main folder/GTruth'\n",
        "    train_images = load_dataset(train_dir)\n",
        "    print(f\"Loaded {train_images.shape[0]} images from {train_dir}.\")\n",
        "except ValueError as e:\n",
        "    print(e)\n"
      ],
      "metadata": {
        "colab": {
          "base_uri": "https://localhost:8080/"
        },
        "id": "10OojDXCJ0nP",
        "outputId": "2e86fcbd-29e1-4df4-e9ae-5c25990dae96"
      },
      "execution_count": 28,
      "outputs": [
        {
          "output_type": "stream",
          "name": "stdout",
          "text": [
            "Loaded 1500 images from /content/SAR despeckling filters dataset/Main folder/GTruth.\n"
          ]
        }
      ]
    },
    {
      "cell_type": "code",
      "source": [
        "print(f\"Dataset Path: {os.path.abspath(train_dir)}\")\n"
      ],
      "metadata": {
        "colab": {
          "base_uri": "https://localhost:8080/"
        },
        "id": "43IupPReKG76",
        "outputId": "fa821fd7-27a3-4426-ab87-92220abf2b6f"
      },
      "execution_count": 29,
      "outputs": [
        {
          "output_type": "stream",
          "name": "stdout",
          "text": [
            "Dataset Path: /content/SAR despeckling filters dataset/Main folder/GTruth\n"
          ]
        }
      ]
    },
    {
      "cell_type": "code",
      "source": [
        "import numpy as np\n",
        "import os\n",
        "from tensorflow.keras.preprocessing.image import load_img, img_to_array\n",
        "from tensorflow.keras.utils import Sequence\n",
        "\n",
        "class CustomDataGenerator(Sequence):\n",
        "    def __init__(self, noisy_dir, truth_dir, batch_size, target_size=(256, 256), shuffle=True, **kwargs):\n",
        "        # Initialize the parent class (fixing the warning)\n",
        "        super().__init__(**kwargs)  # Ensure Keras optimizations work correctly\n",
        "\n",
        "        self.noisy_dir = noisy_dir\n",
        "        self.truth_dir = truth_dir\n",
        "        self.batch_size = batch_size\n",
        "        self.target_size = target_size\n",
        "        self.shuffle = shuffle\n",
        "\n",
        "        # List all files in the noisy directory\n",
        "        self.noisy_images = os.listdir(noisy_dir)\n",
        "        self.truth_images = os.listdir(truth_dir)\n",
        "\n",
        "        self.indexes = np.arange(len(self.noisy_images))\n",
        "        self.on_epoch_end()\n",
        "\n",
        "    def __len__(self):\n",
        "        # Number of batches per epoch\n",
        "        return int(np.floor(len(self.noisy_images) / self.batch_size))\n",
        "\n",
        "    def __getitem__(self, index):\n",
        "        # Generate one batch of data\n",
        "        batch_indexes = self.indexes[index*self.batch_size:(index+1)*self.batch_size]\n",
        "        noisy_batch = [self.noisy_images[k] for k in batch_indexes]\n",
        "        truth_batch = [self.truth_images[k] for k in batch_indexes]\n",
        "\n",
        "        noisy_images = np.array([self._load_image(self.noisy_dir, img) for img in noisy_batch])\n",
        "        truth_images = np.array([self._load_image(self.truth_dir, img) for img in truth_batch])\n",
        "\n",
        "        return noisy_images, truth_images\n",
        "\n",
        "    def on_epoch_end(self):\n",
        "        # Shuffle the data after each epoch\n",
        "        if self.shuffle:\n",
        "            np.random.shuffle(self.indexes)\n",
        "\n",
        "    def _load_image(self, dir_path, img_name):\n",
        "        # Load image from file\n",
        "        img_path = os.path.join(dir_path, img_name)\n",
        "        img = load_img(img_path, target_size=self.target_size, color_mode='grayscale')\n",
        "        img = img_to_array(img) / 255.0  # Normalize the image\n",
        "        return img\n",
        "\n"
      ],
      "metadata": {
        "id": "6ztPDYiPTpKb"
      },
      "execution_count": 30,
      "outputs": []
    },
    {
      "cell_type": "code",
      "source": [
        "# Define paths to your dataset\n",
        "noisy_train_dir = '/content/SAR despeckling filters dataset/Main folder/Noisy'  # Noisy training images\n",
        "truth_train_dir = '/content/SAR despeckling filters dataset/Main folder/GTruth'  # Ground truth training images\n",
        "\n",
        "noisy_val_dir = '/content/SAR despeckling filters dataset/Main folder/Noisy_val'  # Noisy validation images\n",
        "truth_val_dir = '/content/SAR despeckling filters dataset/Main folder/GTruth_val'  # Ground truth validation images\n",
        "\n",
        "# Initialize the generators\n",
        "train_generator = CustomDataGenerator(noisy_train_dir, truth_train_dir, batch_size=32)\n",
        "val_generator = CustomDataGenerator(noisy_val_dir, truth_val_dir, batch_size=32)\n",
        "\n",
        "# Train the model\n",
        "history = model.fit(\n",
        "    train_generator,                # Training data\n",
        "    validation_data=val_generator,  # Validation data\n",
        "    epochs=50,                      # Number of training epochs\n",
        "    verbose=1                       # Verbosity mode (1 = progress bar)\n",
        ")\n"
      ],
      "metadata": {
        "colab": {
          "base_uri": "https://localhost:8080/"
        },
        "id": "lvZFd1pTTut0",
        "outputId": "74c0ac48-a745-4fb4-9698-75e1186ba7d9"
      },
      "execution_count": 31,
      "outputs": [
        {
          "output_type": "stream",
          "name": "stdout",
          "text": [
            "Epoch 1/50\n",
            "\u001b[1m46/46\u001b[0m \u001b[32m━━━━━━━━━━━━━━━━━━━━\u001b[0m\u001b[37m\u001b[0m \u001b[1m94s\u001b[0m 1s/step - accuracy: 0.0180 - loss: 0.0303 - val_accuracy: 0.0214 - val_loss: 0.0139\n",
            "Epoch 2/50\n",
            "\u001b[1m46/46\u001b[0m \u001b[32m━━━━━━━━━━━━━━━━━━━━\u001b[0m\u001b[37m\u001b[0m \u001b[1m38s\u001b[0m 737ms/step - accuracy: 0.0202 - loss: 0.0050 - val_accuracy: 0.0117 - val_loss: 0.0085\n",
            "Epoch 3/50\n",
            "\u001b[1m46/46\u001b[0m \u001b[32m━━━━━━━━━━━━━━━━━━━━\u001b[0m\u001b[37m\u001b[0m \u001b[1m37s\u001b[0m 720ms/step - accuracy: 0.0262 - loss: 0.0037 - val_accuracy: 0.0214 - val_loss: 0.0070\n",
            "Epoch 4/50\n",
            "\u001b[1m46/46\u001b[0m \u001b[32m━━━━━━━━━━━━━━━━━━━━\u001b[0m\u001b[37m\u001b[0m \u001b[1m38s\u001b[0m 718ms/step - accuracy: 0.0200 - loss: 0.0034 - val_accuracy: 0.0214 - val_loss: 0.0066\n",
            "Epoch 5/50\n",
            "\u001b[1m46/46\u001b[0m \u001b[32m━━━━━━━━━━━━━━━━━━━━\u001b[0m\u001b[37m\u001b[0m \u001b[1m41s\u001b[0m 722ms/step - accuracy: 0.0189 - loss: 0.0032 - val_accuracy: 0.0212 - val_loss: 0.0061\n",
            "Epoch 6/50\n",
            "\u001b[1m46/46\u001b[0m \u001b[32m━━━━━━━━━━━━━━━━━━━━\u001b[0m\u001b[37m\u001b[0m \u001b[1m41s\u001b[0m 731ms/step - accuracy: 0.0191 - loss: 0.0030 - val_accuracy: 0.0214 - val_loss: 0.0062\n",
            "Epoch 7/50\n",
            "\u001b[1m46/46\u001b[0m \u001b[32m━━━━━━━━━━━━━━━━━━━━\u001b[0m\u001b[37m\u001b[0m \u001b[1m41s\u001b[0m 731ms/step - accuracy: 0.0200 - loss: 0.0030 - val_accuracy: 0.0211 - val_loss: 0.0058\n",
            "Epoch 8/50\n",
            "\u001b[1m46/46\u001b[0m \u001b[32m━━━━━━━━━━━━━━━━━━━━\u001b[0m\u001b[37m\u001b[0m \u001b[1m41s\u001b[0m 728ms/step - accuracy: 0.0122 - loss: 0.0028 - val_accuracy: 0.0214 - val_loss: 0.0060\n",
            "Epoch 9/50\n",
            "\u001b[1m46/46\u001b[0m \u001b[32m━━━━━━━━━━━━━━━━━━━━\u001b[0m\u001b[37m\u001b[0m \u001b[1m40s\u001b[0m 713ms/step - accuracy: 0.0207 - loss: 0.0029 - val_accuracy: 0.0214 - val_loss: 0.0062\n",
            "Epoch 10/50\n",
            "\u001b[1m46/46\u001b[0m \u001b[32m━━━━━━━━━━━━━━━━━━━━\u001b[0m\u001b[37m\u001b[0m \u001b[1m38s\u001b[0m 740ms/step - accuracy: 0.0182 - loss: 0.0030 - val_accuracy: 0.0211 - val_loss: 0.0052\n",
            "Epoch 11/50\n",
            "\u001b[1m46/46\u001b[0m \u001b[32m━━━━━━━━━━━━━━━━━━━━\u001b[0m\u001b[37m\u001b[0m \u001b[1m37s\u001b[0m 727ms/step - accuracy: 0.0204 - loss: 0.0027 - val_accuracy: 0.0214 - val_loss: 0.0056\n",
            "Epoch 12/50\n",
            "\u001b[1m46/46\u001b[0m \u001b[32m━━━━━━━━━━━━━━━━━━━━\u001b[0m\u001b[37m\u001b[0m \u001b[1m38s\u001b[0m 716ms/step - accuracy: 0.0217 - loss: 0.0028 - val_accuracy: 0.0213 - val_loss: 0.0055\n",
            "Epoch 13/50\n",
            "\u001b[1m46/46\u001b[0m \u001b[32m━━━━━━━━━━━━━━━━━━━━\u001b[0m\u001b[37m\u001b[0m \u001b[1m41s\u001b[0m 741ms/step - accuracy: 0.0137 - loss: 0.0028 - val_accuracy: 0.0214 - val_loss: 0.0052\n",
            "Epoch 14/50\n",
            "\u001b[1m46/46\u001b[0m \u001b[32m━━━━━━━━━━━━━━━━━━━━\u001b[0m\u001b[37m\u001b[0m \u001b[1m41s\u001b[0m 734ms/step - accuracy: 0.0155 - loss: 0.0029 - val_accuracy: 0.0214 - val_loss: 0.0055\n",
            "Epoch 15/50\n",
            "\u001b[1m46/46\u001b[0m \u001b[32m━━━━━━━━━━━━━━━━━━━━\u001b[0m\u001b[37m\u001b[0m \u001b[1m40s\u001b[0m 716ms/step - accuracy: 0.0168 - loss: 0.0030 - val_accuracy: 0.0118 - val_loss: 0.0053\n",
            "Epoch 16/50\n",
            "\u001b[1m46/46\u001b[0m \u001b[32m━━━━━━━━━━━━━━━━━━━━\u001b[0m\u001b[37m\u001b[0m \u001b[1m41s\u001b[0m 720ms/step - accuracy: 0.0236 - loss: 0.0027 - val_accuracy: 0.0213 - val_loss: 0.0051\n",
            "Epoch 17/50\n",
            "\u001b[1m46/46\u001b[0m \u001b[32m━━━━━━━━━━━━━━━━━━━━\u001b[0m\u001b[37m\u001b[0m \u001b[1m42s\u001b[0m 727ms/step - accuracy: 0.0137 - loss: 0.0027 - val_accuracy: 0.0213 - val_loss: 0.0051\n",
            "Epoch 18/50\n",
            "\u001b[1m46/46\u001b[0m \u001b[32m━━━━━━━━━━━━━━━━━━━━\u001b[0m\u001b[37m\u001b[0m \u001b[1m37s\u001b[0m 717ms/step - accuracy: 0.0178 - loss: 0.0026 - val_accuracy: 0.0214 - val_loss: 0.0051\n",
            "Epoch 19/50\n",
            "\u001b[1m46/46\u001b[0m \u001b[32m━━━━━━━━━━━━━━━━━━━━\u001b[0m\u001b[37m\u001b[0m \u001b[1m37s\u001b[0m 719ms/step - accuracy: 0.0180 - loss: 0.0026 - val_accuracy: 0.0214 - val_loss: 0.0051\n",
            "Epoch 20/50\n",
            "\u001b[1m46/46\u001b[0m \u001b[32m━━━━━━━━━━━━━━━━━━━━\u001b[0m\u001b[37m\u001b[0m \u001b[1m38s\u001b[0m 734ms/step - accuracy: 0.0170 - loss: 0.0027 - val_accuracy: 0.0212 - val_loss: 0.0053\n",
            "Epoch 21/50\n",
            "\u001b[1m46/46\u001b[0m \u001b[32m━━━━━━━━━━━━━━━━━━━━\u001b[0m\u001b[37m\u001b[0m \u001b[1m37s\u001b[0m 724ms/step - accuracy: 0.0146 - loss: 0.0027 - val_accuracy: 0.0214 - val_loss: 0.0050\n",
            "Epoch 22/50\n",
            "\u001b[1m46/46\u001b[0m \u001b[32m━━━━━━━━━━━━━━━━━━━━\u001b[0m\u001b[37m\u001b[0m \u001b[1m38s\u001b[0m 716ms/step - accuracy: 0.0194 - loss: 0.0026 - val_accuracy: 0.0214 - val_loss: 0.0054\n",
            "Epoch 23/50\n",
            "\u001b[1m46/46\u001b[0m \u001b[32m━━━━━━━━━━━━━━━━━━━━\u001b[0m\u001b[37m\u001b[0m \u001b[1m38s\u001b[0m 713ms/step - accuracy: 0.0195 - loss: 0.0026 - val_accuracy: 0.0213 - val_loss: 0.0050\n",
            "Epoch 24/50\n",
            "\u001b[1m46/46\u001b[0m \u001b[32m━━━━━━━━━━━━━━━━━━━━\u001b[0m\u001b[37m\u001b[0m \u001b[1m38s\u001b[0m 724ms/step - accuracy: 0.0233 - loss: 0.0027 - val_accuracy: 0.0214 - val_loss: 0.0050\n",
            "Epoch 25/50\n",
            "\u001b[1m46/46\u001b[0m \u001b[32m━━━━━━━━━━━━━━━━━━━━\u001b[0m\u001b[37m\u001b[0m \u001b[1m37s\u001b[0m 721ms/step - accuracy: 0.0186 - loss: 0.0026 - val_accuracy: 0.0213 - val_loss: 0.0054\n",
            "Epoch 26/50\n",
            "\u001b[1m46/46\u001b[0m \u001b[32m━━━━━━━━━━━━━━━━━━━━\u001b[0m\u001b[37m\u001b[0m \u001b[1m41s\u001b[0m 725ms/step - accuracy: 0.0263 - loss: 0.0026 - val_accuracy: 0.0118 - val_loss: 0.0051\n",
            "Epoch 27/50\n",
            "\u001b[1m46/46\u001b[0m \u001b[32m━━━━━━━━━━━━━━━━━━━━\u001b[0m\u001b[37m\u001b[0m \u001b[1m37s\u001b[0m 722ms/step - accuracy: 0.0187 - loss: 0.0026 - val_accuracy: 0.0214 - val_loss: 0.0049\n",
            "Epoch 28/50\n",
            "\u001b[1m46/46\u001b[0m \u001b[32m━━━━━━━━━━━━━━━━━━━━\u001b[0m\u001b[37m\u001b[0m \u001b[1m37s\u001b[0m 726ms/step - accuracy: 0.0182 - loss: 0.0025 - val_accuracy: 0.0214 - val_loss: 0.0049\n",
            "Epoch 29/50\n",
            "\u001b[1m46/46\u001b[0m \u001b[32m━━━━━━━━━━━━━━━━━━━━\u001b[0m\u001b[37m\u001b[0m \u001b[1m41s\u001b[0m 730ms/step - accuracy: 0.0188 - loss: 0.0025 - val_accuracy: 0.0116 - val_loss: 0.0051\n",
            "Epoch 30/50\n",
            "\u001b[1m46/46\u001b[0m \u001b[32m━━━━━━━━━━━━━━━━━━━━\u001b[0m\u001b[37m\u001b[0m \u001b[1m38s\u001b[0m 736ms/step - accuracy: 0.0190 - loss: 0.0025 - val_accuracy: 0.0213 - val_loss: 0.0050\n",
            "Epoch 31/50\n",
            "\u001b[1m46/46\u001b[0m \u001b[32m━━━━━━━━━━━━━━━━━━━━\u001b[0m\u001b[37m\u001b[0m \u001b[1m40s\u001b[0m 726ms/step - accuracy: 0.0206 - loss: 0.0025 - val_accuracy: 0.0115 - val_loss: 0.0047\n",
            "Epoch 32/50\n",
            "\u001b[1m46/46\u001b[0m \u001b[32m━━━━━━━━━━━━━━━━━━━━\u001b[0m\u001b[37m\u001b[0m \u001b[1m41s\u001b[0m 719ms/step - accuracy: 0.0152 - loss: 0.0024 - val_accuracy: 0.0213 - val_loss: 0.0048\n",
            "Epoch 33/50\n",
            "\u001b[1m46/46\u001b[0m \u001b[32m━━━━━━━━━━━━━━━━━━━━\u001b[0m\u001b[37m\u001b[0m \u001b[1m38s\u001b[0m 736ms/step - accuracy: 0.0145 - loss: 0.0025 - val_accuracy: 0.0214 - val_loss: 0.0048\n",
            "Epoch 34/50\n",
            "\u001b[1m46/46\u001b[0m \u001b[32m━━━━━━━━━━━━━━━━━━━━\u001b[0m\u001b[37m\u001b[0m \u001b[1m37s\u001b[0m 716ms/step - accuracy: 0.0160 - loss: 0.0025 - val_accuracy: 0.0214 - val_loss: 0.0049\n",
            "Epoch 35/50\n",
            "\u001b[1m46/46\u001b[0m \u001b[32m━━━━━━━━━━━━━━━━━━━━\u001b[0m\u001b[37m\u001b[0m \u001b[1m37s\u001b[0m 713ms/step - accuracy: 0.0157 - loss: 0.0025 - val_accuracy: 0.0213 - val_loss: 0.0046\n",
            "Epoch 36/50\n",
            "\u001b[1m46/46\u001b[0m \u001b[32m━━━━━━━━━━━━━━━━━━━━\u001b[0m\u001b[37m\u001b[0m \u001b[1m38s\u001b[0m 721ms/step - accuracy: 0.0214 - loss: 0.0026 - val_accuracy: 0.0214 - val_loss: 0.0049\n",
            "Epoch 37/50\n",
            "\u001b[1m46/46\u001b[0m \u001b[32m━━━━━━━━━━━━━━━━━━━━\u001b[0m\u001b[37m\u001b[0m \u001b[1m41s\u001b[0m 719ms/step - accuracy: 0.0181 - loss: 0.0024 - val_accuracy: 0.0209 - val_loss: 0.0045\n",
            "Epoch 38/50\n",
            "\u001b[1m46/46\u001b[0m \u001b[32m━━━━━━━━━━━━━━━━━━━━\u001b[0m\u001b[37m\u001b[0m \u001b[1m38s\u001b[0m 719ms/step - accuracy: 0.0187 - loss: 0.0024 - val_accuracy: 0.0213 - val_loss: 0.0050\n",
            "Epoch 39/50\n",
            "\u001b[1m46/46\u001b[0m \u001b[32m━━━━━━━━━━━━━━━━━━━━\u001b[0m\u001b[37m\u001b[0m \u001b[1m37s\u001b[0m 723ms/step - accuracy: 0.0222 - loss: 0.0026 - val_accuracy: 0.0214 - val_loss: 0.0056\n",
            "Epoch 40/50\n",
            "\u001b[1m46/46\u001b[0m \u001b[32m━━━━━━━━━━━━━━━━━━━━\u001b[0m\u001b[37m\u001b[0m \u001b[1m37s\u001b[0m 711ms/step - accuracy: 0.0211 - loss: 0.0025 - val_accuracy: 0.0212 - val_loss: 0.0047\n",
            "Epoch 41/50\n",
            "\u001b[1m46/46\u001b[0m \u001b[32m━━━━━━━━━━━━━━━━━━━━\u001b[0m\u001b[37m\u001b[0m \u001b[1m38s\u001b[0m 735ms/step - accuracy: 0.0214 - loss: 0.0024 - val_accuracy: 0.0214 - val_loss: 0.0046\n",
            "Epoch 42/50\n",
            "\u001b[1m46/46\u001b[0m \u001b[32m━━━━━━━━━━━━━━━━━━━━\u001b[0m\u001b[37m\u001b[0m \u001b[1m38s\u001b[0m 735ms/step - accuracy: 0.0151 - loss: 0.0025 - val_accuracy: 0.0214 - val_loss: 0.0046\n",
            "Epoch 43/50\n",
            "\u001b[1m46/46\u001b[0m \u001b[32m━━━━━━━━━━━━━━━━━━━━\u001b[0m\u001b[37m\u001b[0m \u001b[1m37s\u001b[0m 720ms/step - accuracy: 0.0223 - loss: 0.0025 - val_accuracy: 0.0213 - val_loss: 0.0046\n",
            "Epoch 44/50\n",
            "\u001b[1m46/46\u001b[0m \u001b[32m━━━━━━━━━━━━━━━━━━━━\u001b[0m\u001b[37m\u001b[0m \u001b[1m38s\u001b[0m 718ms/step - accuracy: 0.0170 - loss: 0.0024 - val_accuracy: 0.0214 - val_loss: 0.0048\n",
            "Epoch 45/50\n",
            "\u001b[1m46/46\u001b[0m \u001b[32m━━━━━━━━━━━━━━━━━━━━\u001b[0m\u001b[37m\u001b[0m \u001b[1m40s\u001b[0m 715ms/step - accuracy: 0.0183 - loss: 0.0023 - val_accuracy: 0.0214 - val_loss: 0.0045\n",
            "Epoch 46/50\n",
            "\u001b[1m46/46\u001b[0m \u001b[32m━━━━━━━━━━━━━━━━━━━━\u001b[0m\u001b[37m\u001b[0m \u001b[1m41s\u001b[0m 735ms/step - accuracy: 0.0146 - loss: 0.0025 - val_accuracy: 0.0214 - val_loss: 0.0046\n",
            "Epoch 47/50\n",
            "\u001b[1m46/46\u001b[0m \u001b[32m━━━━━━━━━━━━━━━━━━━━\u001b[0m\u001b[37m\u001b[0m \u001b[1m38s\u001b[0m 733ms/step - accuracy: 0.0195 - loss: 0.0027 - val_accuracy: 0.0213 - val_loss: 0.0047\n",
            "Epoch 48/50\n",
            "\u001b[1m46/46\u001b[0m \u001b[32m━━━━━━━━━━━━━━━━━━━━\u001b[0m\u001b[37m\u001b[0m \u001b[1m41s\u001b[0m 734ms/step - accuracy: 0.0228 - loss: 0.0024 - val_accuracy: 0.0214 - val_loss: 0.0049\n",
            "Epoch 49/50\n",
            "\u001b[1m46/46\u001b[0m \u001b[32m━━━━━━━━━━━━━━━━━━━━\u001b[0m\u001b[37m\u001b[0m \u001b[1m41s\u001b[0m 729ms/step - accuracy: 0.0149 - loss: 0.0025 - val_accuracy: 0.0213 - val_loss: 0.0045\n",
            "Epoch 50/50\n",
            "\u001b[1m46/46\u001b[0m \u001b[32m━━━━━━━━━━━━━━━━━━━━\u001b[0m\u001b[37m\u001b[0m \u001b[1m41s\u001b[0m 727ms/step - accuracy: 0.0249 - loss: 0.0025 - val_accuracy: 0.0117 - val_loss: 0.0045\n"
          ]
        }
      ]
    },
    {
      "cell_type": "code",
      "source": [
        "model.save('sar_denoising_model.keras')\n"
      ],
      "metadata": {
        "id": "H09MmlfTuift"
      },
      "execution_count": 37,
      "outputs": []
    },
    {
      "cell_type": "code",
      "source": [
        "from tensorflow.keras.models import load_model\n",
        "\n",
        "# Load the model from the .keras file\n",
        "model = load_model('sar_denoising_model.keras')\n",
        "\n"
      ],
      "metadata": {
        "id": "OGbu0_z0ul1d"
      },
      "execution_count": 39,
      "outputs": []
    },
    {
      "cell_type": "code",
      "source": [
        "import matplotlib.pyplot as plt\n",
        "\n",
        "for epoch in range(len(history.history['accuracy'])):\n",
        "    print(f\"Epoch {epoch + 1}:\")\n",
        "    print(f\"  Training Accuracy: {history.history['accuracy'][epoch]:.4f}\")\n",
        "    print(f\"  Validation Accuracy: {history.history['val_accuracy'][epoch]:.4f}\")\n",
        "\n",
        "# Plot the accuracy curves\n",
        "plt.figure(figsize=(10, 6))\n",
        "plt.plot(history.history['accuracy'], label='Train Accuracy')\n",
        "plt.plot(history.history['val_accuracy'], label='Validation Accuracy')\n",
        "plt.title('Model Accuracy')\n",
        "plt.xlabel('Epoch')\n",
        "plt.ylabel('Accuracy')\n",
        "plt.legend()\n",
        "plt.show()"
      ],
      "metadata": {
        "colab": {
          "base_uri": "https://localhost:8080/",
          "height": 1000
        },
        "id": "BptLAr3mvMro",
        "outputId": "5366a7e7-3d18-48d1-fbaa-9c74932c3074"
      },
      "execution_count": 41,
      "outputs": [
        {
          "output_type": "stream",
          "name": "stdout",
          "text": [
            "Epoch 1:\n",
            "  Training Accuracy: 0.0197\n",
            "  Validation Accuracy: 0.0214\n",
            "Epoch 2:\n",
            "  Training Accuracy: 0.0199\n",
            "  Validation Accuracy: 0.0117\n",
            "Epoch 3:\n",
            "  Training Accuracy: 0.0199\n",
            "  Validation Accuracy: 0.0214\n",
            "Epoch 4:\n",
            "  Training Accuracy: 0.0186\n",
            "  Validation Accuracy: 0.0214\n",
            "Epoch 5:\n",
            "  Training Accuracy: 0.0199\n",
            "  Validation Accuracy: 0.0212\n",
            "Epoch 6:\n",
            "  Training Accuracy: 0.0186\n",
            "  Validation Accuracy: 0.0214\n",
            "Epoch 7:\n",
            "  Training Accuracy: 0.0199\n",
            "  Validation Accuracy: 0.0211\n",
            "Epoch 8:\n",
            "  Training Accuracy: 0.0192\n",
            "  Validation Accuracy: 0.0214\n",
            "Epoch 9:\n",
            "  Training Accuracy: 0.0199\n",
            "  Validation Accuracy: 0.0214\n",
            "Epoch 10:\n",
            "  Training Accuracy: 0.0199\n",
            "  Validation Accuracy: 0.0211\n",
            "Epoch 11:\n",
            "  Training Accuracy: 0.0199\n",
            "  Validation Accuracy: 0.0214\n",
            "Epoch 12:\n",
            "  Training Accuracy: 0.0199\n",
            "  Validation Accuracy: 0.0213\n",
            "Epoch 13:\n",
            "  Training Accuracy: 0.0185\n",
            "  Validation Accuracy: 0.0214\n",
            "Epoch 14:\n",
            "  Training Accuracy: 0.0199\n",
            "  Validation Accuracy: 0.0214\n",
            "Epoch 15:\n",
            "  Training Accuracy: 0.0199\n",
            "  Validation Accuracy: 0.0118\n",
            "Epoch 16:\n",
            "  Training Accuracy: 0.0185\n",
            "  Validation Accuracy: 0.0213\n",
            "Epoch 17:\n",
            "  Training Accuracy: 0.0192\n",
            "  Validation Accuracy: 0.0213\n",
            "Epoch 18:\n",
            "  Training Accuracy: 0.0199\n",
            "  Validation Accuracy: 0.0214\n",
            "Epoch 19:\n",
            "  Training Accuracy: 0.0192\n",
            "  Validation Accuracy: 0.0214\n",
            "Epoch 20:\n",
            "  Training Accuracy: 0.0199\n",
            "  Validation Accuracy: 0.0212\n",
            "Epoch 21:\n",
            "  Training Accuracy: 0.0193\n",
            "  Validation Accuracy: 0.0214\n",
            "Epoch 22:\n",
            "  Training Accuracy: 0.0199\n",
            "  Validation Accuracy: 0.0214\n",
            "Epoch 23:\n",
            "  Training Accuracy: 0.0192\n",
            "  Validation Accuracy: 0.0213\n",
            "Epoch 24:\n",
            "  Training Accuracy: 0.0192\n",
            "  Validation Accuracy: 0.0214\n",
            "Epoch 25:\n",
            "  Training Accuracy: 0.0192\n",
            "  Validation Accuracy: 0.0213\n",
            "Epoch 26:\n",
            "  Training Accuracy: 0.0199\n",
            "  Validation Accuracy: 0.0118\n",
            "Epoch 27:\n",
            "  Training Accuracy: 0.0199\n",
            "  Validation Accuracy: 0.0214\n",
            "Epoch 28:\n",
            "  Training Accuracy: 0.0199\n",
            "  Validation Accuracy: 0.0214\n",
            "Epoch 29:\n",
            "  Training Accuracy: 0.0192\n",
            "  Validation Accuracy: 0.0116\n",
            "Epoch 30:\n",
            "  Training Accuracy: 0.0199\n",
            "  Validation Accuracy: 0.0213\n",
            "Epoch 31:\n",
            "  Training Accuracy: 0.0199\n",
            "  Validation Accuracy: 0.0115\n",
            "Epoch 32:\n",
            "  Training Accuracy: 0.0199\n",
            "  Validation Accuracy: 0.0213\n",
            "Epoch 33:\n",
            "  Training Accuracy: 0.0199\n",
            "  Validation Accuracy: 0.0214\n",
            "Epoch 34:\n",
            "  Training Accuracy: 0.0192\n",
            "  Validation Accuracy: 0.0214\n",
            "Epoch 35:\n",
            "  Training Accuracy: 0.0193\n",
            "  Validation Accuracy: 0.0213\n",
            "Epoch 36:\n",
            "  Training Accuracy: 0.0199\n",
            "  Validation Accuracy: 0.0214\n",
            "Epoch 37:\n",
            "  Training Accuracy: 0.0192\n",
            "  Validation Accuracy: 0.0209\n",
            "Epoch 38:\n",
            "  Training Accuracy: 0.0192\n",
            "  Validation Accuracy: 0.0213\n",
            "Epoch 39:\n",
            "  Training Accuracy: 0.0199\n",
            "  Validation Accuracy: 0.0214\n",
            "Epoch 40:\n",
            "  Training Accuracy: 0.0192\n",
            "  Validation Accuracy: 0.0212\n",
            "Epoch 41:\n",
            "  Training Accuracy: 0.0186\n",
            "  Validation Accuracy: 0.0214\n",
            "Epoch 42:\n",
            "  Training Accuracy: 0.0199\n",
            "  Validation Accuracy: 0.0214\n",
            "Epoch 43:\n",
            "  Training Accuracy: 0.0199\n",
            "  Validation Accuracy: 0.0213\n",
            "Epoch 44:\n",
            "  Training Accuracy: 0.0199\n",
            "  Validation Accuracy: 0.0214\n",
            "Epoch 45:\n",
            "  Training Accuracy: 0.0192\n",
            "  Validation Accuracy: 0.0214\n",
            "Epoch 46:\n",
            "  Training Accuracy: 0.0199\n",
            "  Validation Accuracy: 0.0214\n",
            "Epoch 47:\n",
            "  Training Accuracy: 0.0192\n",
            "  Validation Accuracy: 0.0213\n",
            "Epoch 48:\n",
            "  Training Accuracy: 0.0199\n",
            "  Validation Accuracy: 0.0214\n",
            "Epoch 49:\n",
            "  Training Accuracy: 0.0199\n",
            "  Validation Accuracy: 0.0213\n",
            "Epoch 50:\n",
            "  Training Accuracy: 0.0199\n",
            "  Validation Accuracy: 0.0117\n"
          ]
        },
        {
          "output_type": "display_data",
          "data": {
            "text/plain": [
              "<Figure size 1000x600 with 1 Axes>"
            ],
            "image/png": "[encoded data removed]"
          },
          "metadata": {}
        }
      ]
    },
    {
      "cell_type": "code",
      "source": [
        "import matplotlib.pyplot as plt  # Import matplotlib for plotting\n",
        "\n",
        "# Assuming 'history' is already generated after model training\n",
        "\n",
        "# Plot the accuracy curves\n",
        "plt.figure(figsize=(10, 6))\n",
        "plt.plot(history.history['accuracy'], label='Train Accuracy')\n",
        "plt.plot(history.history['val_accuracy'], label='Validation Accuracy')\n",
        "plt.title('Model Accuracy')\n",
        "plt.xlabel('Epoch')\n",
        "plt.ylabel('Accuracy')\n",
        "plt.legend()\n",
        "\n",
        "# Save the plot as an image (e.g., PNG format)\n",
        "plt.savefig('/content/accuracy_plot.jpg')  # Save the plot to the current working directory\n",
        "\n",
        "# If running in Google Colab, download the image to your local machine\n",
        "from google.colab import files\n",
        "files.download('/content/accuracy_plot.jpg')  # Download the plot image\n"
      ],
      "metadata": {
        "colab": {
          "base_uri": "https://localhost:8080/",
          "height": 564
        },
        "id": "KT4e2DKev2cj",
        "outputId": "f98c377e-33de-4543-aeb4-c34f03afc9c4"
      },
      "execution_count": 43,
      "outputs": [
        {
          "output_type": "display_data",
          "data": {
            "text/plain": [
              "<IPython.core.display.Javascript object>"
            ],
            "application/javascript": [
              "\n",
              "    async function download(id, filename, size) {\n",
              "      if (!google.colab.kernel.accessAllowed) {\n",
              "        return;\n",
              "      }\n",
              "      const div = document.createElement('div');\n",
              "      const label = document.createElement('label');\n",
              "      label.textContent = `Downloading \"${filename}\": `;\n",
              "      div.appendChild(label);\n",
              "      const progress = document.createElement('progress');\n",
              "      progress.max = size;\n",
              "      div.appendChild(progress);\n",
              "      document.body.appendChild(div);\n",
              "\n",
              "      const buffers = [];\n",
              "      let downloaded = 0;\n",
              "\n",
              "      const channel = await google.colab.kernel.comms.open(id);\n",
              "      // Send a message to notify the kernel that we're ready.\n",
              "      channel.send({})\n",
              "\n",
              "      for await (const message of channel.messages) {\n",
              "        // Send a message to notify the kernel that we're ready.\n",
              "        channel.send({})\n",
              "        if (message.buffers) {\n",
              "          for (const buffer of message.buffers) {\n",
              "            buffers.push(buffer);\n",
              "            downloaded += buffer.byteLength;\n",
              "            progress.value = downloaded;\n",
              "          }\n",
              "        }\n",
              "      }\n",
              "      const blob = new Blob(buffers, {type: 'application/binary'});\n",
              "      const a = document.createElement('a');\n",
              "      a.href = window.URL.createObjectURL(blob);\n",
              "      a.download = filename;\n",
              "      div.appendChild(a);\n",
              "      a.click();\n",
              "      div.remove();\n",
              "    }\n",
              "  "
            ]
          },
          "metadata": {}
        },
        {
          "output_type": "display_data",
          "data": {
            "text/plain": [
              "<IPython.core.display.Javascript object>"
            ],
            "application/javascript": [
              "download(\"download_97f99b39-0611-4a68-b105-b7d4f4938dfd\", \"accuracy_plot.jpg\", 43871)"
            ]
          },
          "metadata": {}
        },
        {
          "output_type": "display_data",
          "data": {
            "text/plain": [
              "<Figure size 1000x600 with 1 Axes>"
            ],
            "image/png": "[encoded data removed]"
          },
          "metadata": {}
        }
      ]
    }
  ]
}